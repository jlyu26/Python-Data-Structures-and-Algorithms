{
 "cells": [
  {
   "cell_type": "markdown",
   "metadata": {},
   "source": [
    "# Big O Notation\n",
    "\n",
    "Big-O notation describes **how quickly** runtime will grow relative to the input as the input get arbitrarily large. When it comes to Big O notation we only care about the most significant terms, remember as the input grows larger only the fastest growing terms will matter (drop constants).\n",
    "\n",
    "时间复杂度的几条基本计算规则：\n",
    "\n",
    "1、基本操作，即只有常数项，认为其时间复杂度为O(1)\n",
    "\n",
    "2、顺序结构，时间复杂度按加法进行计算\n",
    "\n",
    "3、循环结构，时间复杂度按乘法进行计算\n",
    "\n",
    "4、分支结构，时间复杂度取最大值\n",
    "\n",
    "5、判断一个算法的效率时，往往只需要关注操作数量的最高次项，其它次要项和常数项可以忽略\n",
    "\n",
    "6、在没有特殊说明时，我们所分析的算法的时间复杂度都是指最坏时间复杂度\n"
   ]
  },
  {
   "cell_type": "markdown",
   "metadata": {},
   "source": [
    "## Runtimes of Common Big-O Functions\n",
    "\n",
    "Here is a table of common Big-O functions:\n",
    "\n",
    "<table>\n",
    "<tr>\n",
    "    <th><strong>Big-O</strong></th>\n",
    "    <th><strong>Name</strong></th>\n",
    "</tr>\n",
    "<tr>\n",
    "    <td>1</td>\n",
    "    <td>Constant</td>\n",
    "</tr>\n",
    "<tr>\n",
    "    <td>log(n)</td>\n",
    "    <td>Logarithmic</td>\n",
    "</tr>\n",
    "    <tr><td>n</td>\n",
    "    <td>Linear</td>\n",
    "</tr>\n",
    "    <tr><td>nlog(n)</td>\n",
    "    <td>Log Linear</td>\n",
    "</tr>\n",
    "    <tr><td>n^2</td>\n",
    "    <td>Quadratic</td>\n",
    "</tr>\n",
    "    <tr><td>n^3</td>\n",
    "    <td>Cubic</td>\n",
    "</tr>\n",
    "    <tr><td>2^n</td>\n",
    "    <td>Exponential</td>\n",
    "</tr>\n",
    "</table>\n",
    "\n",
    "![bigocomplexity](https://user-images.githubusercontent.com/20265633/40211559-4c4143fe-5a19-11e8-9bf8-4043fb919009.png)"
   ]
  }
 ],
 "metadata": {
  "kernelspec": {
   "display_name": "Python 3",
   "language": "python",
   "name": "python3"
  },
  "language_info": {
   "codemirror_mode": {
    "name": "ipython",
    "version": 3
   },
   "file_extension": ".py",
   "mimetype": "text/x-python",
   "name": "python",
   "nbconvert_exporter": "python",
   "pygments_lexer": "ipython3",
   "version": "3.6.5"
  }
 },
 "nbformat": 4,
 "nbformat_minor": 2
}
