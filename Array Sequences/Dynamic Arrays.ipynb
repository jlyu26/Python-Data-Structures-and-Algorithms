{
 "cells": [
  {
   "cell_type": "markdown",
   "metadata": {},
   "source": [
    "## Dynamic Arrays\n",
    "\n",
    "- Don't need to specify how large an array is beforehand.\n",
    "- A list instance often has greater capacity than current length.\n",
    "- If elements keep getting appended, eventually this extra space runs out (overflow)."
   ]
  },
  {
   "cell_type": "code",
   "execution_count": 9,
   "metadata": {},
   "outputs": [
    {
     "name": "stdout",
     "output_type": "stream",
     "text": [
      "Length:   0; Size in bytes:   64 \n",
      "Length:   1; Size in bytes:   96 \n",
      "Length:   2; Size in bytes:   96 \n",
      "Length:   3; Size in bytes:   96 \n",
      "Length:   4; Size in bytes:   96 \n",
      "Length:   5; Size in bytes:  128 \n",
      "Length:   6; Size in bytes:  128 \n",
      "Length:   7; Size in bytes:  128 \n",
      "Length:   8; Size in bytes:  128 \n",
      "Length:   9; Size in bytes:  192 \n",
      "Length:  10; Size in bytes:  192 \n",
      "Length:  11; Size in bytes:  192 \n",
      "Length:  12; Size in bytes:  192 \n",
      "Length:  13; Size in bytes:  192 \n",
      "Length:  14; Size in bytes:  192 \n",
      "Length:  15; Size in bytes:  192 \n",
      "Length:  16; Size in bytes:  192 \n",
      "Length:  17; Size in bytes:  264 \n",
      "Length:  18; Size in bytes:  264 \n",
      "Length:  19; Size in bytes:  264 \n",
      "Length:  20; Size in bytes:  264 \n",
      "Length:  21; Size in bytes:  264 \n",
      "Length:  22; Size in bytes:  264 \n",
      "Length:  23; Size in bytes:  264 \n",
      "Length:  24; Size in bytes:  264 \n",
      "Length:  25; Size in bytes:  264 \n",
      "Length:  26; Size in bytes:  344 \n",
      "Length:  27; Size in bytes:  344 \n",
      "Length:  28; Size in bytes:  344 \n",
      "Length:  29; Size in bytes:  344 \n",
      "Length:  30; Size in bytes:  344 \n",
      "Length:  31; Size in bytes:  344 \n",
      "Length:  32; Size in bytes:  344 \n",
      "Length:  33; Size in bytes:  344 \n",
      "Length:  34; Size in bytes:  344 \n",
      "Length:  35; Size in bytes:  344 \n",
      "Length:  36; Size in bytes:  432 \n",
      "Length:  37; Size in bytes:  432 \n",
      "Length:  38; Size in bytes:  432 \n",
      "Length:  39; Size in bytes:  432 \n",
      "Length:  40; Size in bytes:  432 \n",
      "Length:  41; Size in bytes:  432 \n",
      "Length:  42; Size in bytes:  432 \n",
      "Length:  43; Size in bytes:  432 \n",
      "Length:  44; Size in bytes:  432 \n",
      "Length:  45; Size in bytes:  432 \n",
      "Length:  46; Size in bytes:  432 \n",
      "Length:  47; Size in bytes:  528 \n",
      "Length:  48; Size in bytes:  528 \n",
      "Length:  49; Size in bytes:  528 \n"
     ]
    }
   ],
   "source": [
    "import sys\n",
    "\n",
    "# Set n\n",
    "n = 50\n",
    "\n",
    "data = []\n",
    "\n",
    "for i in range(n):\n",
    "\n",
    "    # Number of elements\n",
    "    a = len(data)\n",
    "    \n",
    "    # Actual size in bytes\n",
    "    b = sys.getsizeof(data)\n",
    "    \n",
    "    print('Length: {0:3d}; Size in bytes: {1:4d} '.format(a, b))\n",
    "    \n",
    "    # list.append(obj) 用于在列表末尾添加新的对象\n",
    "    # increase length by one\n",
    "    data.append(i)"
   ]
  },
  {
   "cell_type": "markdown",
   "metadata": {},
   "source": [
    "## Dynamic Array Implementation\n",
    "\n",
    "P.S. 可以用Python的原生列表(list)或引入array模块`from array import array`:\n",
    "- In Python, a `list` is a dynamic array. [[Reference]](https://stackoverflow.com/a/2910944)\n",
    "- In Python, a dynamic array is an array from the `array` module. [[Reference]](https://stackoverflow.com/a/23351974)\n",
    "\n",
    "如果不用以上两种方式，手动实现的话:\n",
    "- The key is to provide means to grow the array **A** that stores the element of a list.\n",
    "- We can't actually grow that array, its capacity is fixed.\n",
    "- If an element is appended to a list ot a time, when the underlying array is full, we'll need to perform the following steps:\n",
    "\n",
    "参见代码中的`_resize(self,new_cap)`:\n",
    "1. create new array **B**\n",
    "2. store elements of **A** in **B**\n",
    "3. reassign reference **A** to the new array\n",
    "\n",
    "<img width=\"602\" alt=\"dynamic-array-implementation\" src=\"https://user-images.githubusercontent.com/20265633/40264159-12033c8c-5aec-11e8-94e1-bab55fe2fe55.PNG\">"
   ]
  },
  {
   "cell_type": "code",
   "execution_count": 10,
   "metadata": {},
   "outputs": [],
   "source": [
    "import ctypes\n",
    "\n",
    "class DynamicArray(object):\n",
    "    '''\n",
    "    DYNAMIC ARRAY CLASS (Similar to Python List)\n",
    "    '''\n",
    "    # _ before variable to make it private\n",
    "    \n",
    "    def __init__(self):\n",
    "        self.n = 0 # Count actual elements (Default is 0)\n",
    "        self.capacity = 1 # Default Capacity\n",
    "        self.A = self.make_array(self.capacity)\n",
    "        \n",
    "    def __len__(self):\n",
    "        \"\"\"\n",
    "        Return number of elements sorted in array\n",
    "        \"\"\"\n",
    "        return self.n\n",
    "    \n",
    "    def __getitem__(self,k):\n",
    "        \"\"\"\n",
    "        Return element at index k\n",
    "        \"\"\"\n",
    "        if not 0 <= k <self.n:\n",
    "            return IndexError('K is out of bounds!') # Check it k index is in bounds of array\n",
    "        \n",
    "        return self.A[k] #Retrieve from array at index k\n",
    "        \n",
    "    def append(self, ele):\n",
    "        \"\"\"\n",
    "        Add element to end of the array\n",
    "        \"\"\"\n",
    "        if self.n == self.capacity:\n",
    "            self._resize(2*self.capacity) #Double capacity if not enough room\n",
    "        \n",
    "        self.A[self.n] = ele #Set self.n index to element\n",
    "        self.n += 1\n",
    "        \n",
    "    def _resize(self,new_cap):\n",
    "        \"\"\"\n",
    "        Resize internal array to capacity new_cap\n",
    "        \"\"\"\n",
    "        B = self.make_array(new_cap) # New bigger array\n",
    "        \n",
    "        for k in range(self.n): # Reference all existing values\n",
    "            B[k] = self.A[k]\n",
    "            \n",
    "        self.A = B # Call A the new bigger array\n",
    "        self.capacity = new_cap # Reset the capacity\n",
    "        \n",
    "    def make_array(self,new_cap):\n",
    "        \"\"\"\n",
    "        Returns a new array with new_cap capacity\n",
    "        \"\"\"\n",
    "        return (new_cap * ctypes.py_object)()"
   ]
  },
  {
   "cell_type": "code",
   "execution_count": 11,
   "metadata": {},
   "outputs": [],
   "source": [
    "# Instantiate\n",
    "arr = DynamicArray()"
   ]
  },
  {
   "cell_type": "code",
   "execution_count": 12,
   "metadata": {},
   "outputs": [],
   "source": [
    "# Append new element\n",
    "arr.append(1)"
   ]
  },
  {
   "cell_type": "code",
   "execution_count": 13,
   "metadata": {},
   "outputs": [
    {
     "data": {
      "text/plain": [
       "1"
      ]
     },
     "execution_count": 13,
     "metadata": {},
     "output_type": "execute_result"
    }
   ],
   "source": [
    "# Check length\n",
    "len(arr)"
   ]
  },
  {
   "cell_type": "code",
   "execution_count": 14,
   "metadata": {},
   "outputs": [],
   "source": [
    "# Append new element\n",
    "arr.append(2)"
   ]
  },
  {
   "cell_type": "code",
   "execution_count": 15,
   "metadata": {},
   "outputs": [
    {
     "data": {
      "text/plain": [
       "2"
      ]
     },
     "execution_count": 15,
     "metadata": {},
     "output_type": "execute_result"
    }
   ],
   "source": [
    "# Check length\n",
    "len(arr)"
   ]
  },
  {
   "cell_type": "code",
   "execution_count": 16,
   "metadata": {},
   "outputs": [
    {
     "data": {
      "text/plain": [
       "1"
      ]
     },
     "execution_count": 16,
     "metadata": {},
     "output_type": "execute_result"
    }
   ],
   "source": [
    "# Index\n",
    "arr[0]"
   ]
  },
  {
   "cell_type": "code",
   "execution_count": 17,
   "metadata": {},
   "outputs": [
    {
     "data": {
      "text/plain": [
       "2"
      ]
     },
     "execution_count": 17,
     "metadata": {},
     "output_type": "execute_result"
    }
   ],
   "source": [
    "arr[1]"
   ]
  }
 ],
 "metadata": {
  "kernelspec": {
   "display_name": "Python 3",
   "language": "python",
   "name": "python3"
  },
  "language_info": {
   "codemirror_mode": {
    "name": "ipython",
    "version": 3
   },
   "file_extension": ".py",
   "mimetype": "text/x-python",
   "name": "python",
   "nbconvert_exporter": "python",
   "pygments_lexer": "ipython3",
   "version": "3.6.5"
  }
 },
 "nbformat": 4,
 "nbformat_minor": 2
}
